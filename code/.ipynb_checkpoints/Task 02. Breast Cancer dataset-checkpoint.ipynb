{
 "cells": [
  {
   "cell_type": "markdown",
   "metadata": {},
   "source": [
    "Breast Cancer dataset is a binary classification task. The following code is using a simple logistic regression classifier to predict the class of each sample. Please use the metrics you learn, e.g., accuracy, precision, recall, F1, auc and ROC_curve, to evaluate the performance of the classifier."
   ]
  },
  {
   "cell_type": "code",
   "execution_count": 2,
   "metadata": {},
   "outputs": [],
   "source": [
    "from sklearn.datasets import load_breast_cancer\n",
    "from sklearn import datasets\n",
    "from sklearn.model_selection import train_test_split\n",
    "from sklearn.linear_model import LogisticRegression\n",
    "from sklearn import metrics\n",
    "import numpy as np\n",
    "\n",
    "X, y = load_breast_cancer(return_X_y=True)\n",
    "\n",
    "X_train,X_test,y_train,y_test=train_test_split(\n",
    "        X,y,test_size=0.2, random_state=0)\n",
    "\n",
    "lr=LogisticRegression(solver='lbfgs', max_iter=8000)\n",
    "lr.fit(X_train,y_train)\n",
    "y_pred=lr.predict(X_test)\n",
    "y_conf=lr.predict_proba(X_test)"
   ]
  },
  {
   "cell_type": "code",
   "execution_count": 2,
   "metadata": {},
   "outputs": [
    {
     "name": "stdout",
     "output_type": "stream",
     "text": [
      "0.9841269841269841\n",
      "0.9253731343283582\n",
      "0.9538461538461538\n",
      "0.9473684210526315\n"
     ]
    },
    {
     "data": {
      "image/png": "[encoded data removed]",
      "text/plain": [
       "<Figure size 432x288 with 1 Axes>"
      ]
     },
     "metadata": {
      "needs_background": "light"
     },
     "output_type": "display_data"
    }
   ],
   "source": [
    "# *Solutions Examples\n",
    "from sklearn.datasets import load_breast_cancer\n",
    "from sklearn import datasets\n",
    "from sklearn.model_selection import train_test_split\n",
    "from sklearn.preprocessing import StandardScaler\n",
    "from sklearn.linear_model import LogisticRegression\n",
    "from sklearn import metrics\n",
    "import numpy as np\n",
    "\n",
    "#load breast cancer data\n",
    "X, y = load_breast_cancer(return_X_y=True)\n",
    "\n",
    "X_train,X_test,y_train,y_test=train_test_split(\n",
    "        X,y,test_size=0.2, random_state=0)\n",
    "\n",
    "#build logisticregressor\n",
    "lr=LogisticRegression(solver='lbfgs', max_iter=8000)\n",
    "\n",
    "#train and predict\n",
    "lr.fit(X_train,y_train)\n",
    "y_pred=lr.predict(X_test)\n",
    "y_conf=lr.predict_proba(X_test)\n",
    "\n",
    "print(metrics.precision_score(y_test,y_pred))\n",
    "print(metrics.recall_score(y_test,y_pred))\n",
    "print(metrics.f1_score(y_test,y_pred))\n",
    "print(metrics.accuracy_score(y_test,y_pred))\n",
    "\n",
    "\n",
    "from sklearn.metrics import roc_curve\n",
    "from sklearn.metrics import roc_auc_score\n",
    "\n",
    "#use only confidence for target class to calculate ROC\n",
    "fpr, tpr, thresholds = roc_curve(y_test, y_conf[:,1], pos_label=1)\n",
    "# print(fpr)\n",
    "# print(tpr)\n",
    "# print(thresholds)\n",
    "auc_score = roc_auc_score(y_test, np.argmax(y_conf,axis=1))\n",
    "# print(auc_score)\n",
    "\n",
    "from matplotlib import pyplot as plt\n",
    "plt.figure(1)\n",
    "plt.plot([0, 1], [0, 1], 'k--')\n",
    "plt.plot(fpr, tpr, label='ROC')\n",
    "plt.xlabel('False positive rate')\n",
    "plt.ylabel('True positive rate')\n",
    "plt.title('ROC curve')\n",
    "plt.legend(loc='best')\n",
    "# plt.show()\n",
    "plt.savefig('lab1_task6.png')\n",
    "\n"
   ]
  }
 ],
 "metadata": {
  "interpreter": {
   "hash": "a8d1fba2acd384af8835ae5a74542914c2c662db497e29b068bc8ceb50b43021"
  },
  "kernelspec": {
   "display_name": "Python 3 (ipykernel)",
   "language": "python",
   "name": "python3"
  },
  "language_info": {
   "codemirror_mode": {
    "name": "ipython",
    "version": 3
   },
   "file_extension": ".py",
   "mimetype": "text/x-python",
   "name": "python",
   "nbconvert_exporter": "python",
   "pygments_lexer": "ipython3",
   "version": "3.8.5"
  }
 },
 "nbformat": 4,
 "nbformat_minor": 2
}

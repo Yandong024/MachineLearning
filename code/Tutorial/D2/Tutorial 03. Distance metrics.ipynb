{
 "cells": [
  {
   "cell_type": "markdown",
   "metadata": {},
   "source": [
    "Distance metrics play important role in machine learning algorithms. Many metrics are implemented in sklearn.Metrics.DistanceMetric package. Please read the following document (https://scikit-learn.org/stable/modules/generated/sklearn.metrics.DistanceMetric.html?highlight=distancemetric#sklearn.metrics.DistanceMetric) so that you know how to call functions to calculate distances between samples."
   ]
  },
  {
   "cell_type": "markdown",
   "metadata": {},
   "source": [
    "(1) EuclideanDistance calculation."
   ]
  },
  {
   "cell_type": "code",
   "execution_count": 1,
   "metadata": {},
   "outputs": [
    {
     "name": "stdout",
     "output_type": "stream",
     "text": [
      "[[0.         5.19615242]\n",
      " [5.19615242 0.        ]]\n"
     ]
    }
   ],
   "source": [
    "from sklearn.metrics import DistanceMetric\n",
    "dist = DistanceMetric.get_metric('euclidean')\n",
    "X= [[0,1,2],[3,4,5]]\n",
    "print(dist.pairwise(X))\n"
   ]
  },
  {
   "cell_type": "markdown",
   "metadata": {},
   "source": [
    "(1) EuclideanDistance calculation."
   ]
  },
  {
   "cell_type": "code",
   "execution_count": 2,
   "metadata": {},
   "outputs": [
    {
     "name": "stdout",
     "output_type": "stream",
     "text": [
      "[[0. 9.]\n",
      " [9. 0.]]\n"
     ]
    }
   ],
   "source": [
    "from sklearn.metrics import DistanceMetric\n",
    "dist = DistanceMetric.get_metric('manhattan')\n",
    "X= [[0,1,2],[3,4,5]]\n",
    "print(dist.pairwise(X))"
   ]
  },
  {
   "cell_type": "code",
   "execution_count": 3,
   "metadata": {},
   "outputs": [
    {
     "name": "stdout",
     "output_type": "stream",
     "text": [
      "[[0. 3.]\n",
      " [3. 0.]]\n"
     ]
    }
   ],
   "source": [
    "from sklearn.metrics import DistanceMetric\n",
    "dist = DistanceMetric.get_metric('chebyshev')\n",
    "X= [[0,1,2],[3,4,5]]\n",
    "print(dist.pairwise(X))"
   ]
  },
  {
   "cell_type": "code",
   "execution_count": 6,
   "metadata": {},
   "outputs": [
    {
     "name": "stdout",
     "output_type": "stream",
     "text": [
      "[[0.         3.60555128]\n",
      " [3.60555128 0.        ]]\n"
     ]
    }
   ],
   "source": [
    "from sklearn.metrics import DistanceMetric # or from sklearn.metrics import DistanceMetric depending on your version\n",
    "import numpy as np\n",
    "\n",
    "X = [[1, 2, 2], [ -1,7, 5]]\n",
    "V=np.cov(X)\n",
    "\n",
    "dist = DistanceMetric.get_metric('mahalanobis', V=np.cov(X))\n",
    "print(dist.pairwise(V))"
   ]
  }
 ],
 "metadata": {
  "interpreter": {
   "hash": "a8d1fba2acd384af8835ae5a74542914c2c662db497e29b068bc8ceb50b43021"
  },
  "kernelspec": {
   "display_name": "Python 3.8.12 ('SelfCAM')",
   "language": "python",
   "name": "python3"
  },
  "language_info": {
   "codemirror_mode": {
    "name": "ipython",
    "version": 3
   },
   "file_extension": ".py",
   "mimetype": "text/x-python",
   "name": "python",
   "nbconvert_exporter": "python",
   "pygments_lexer": "ipython3",
   "version": "3.9.7"
  },
  "orig_nbformat": 4
 },
 "nbformat": 4,
 "nbformat_minor": 2
}

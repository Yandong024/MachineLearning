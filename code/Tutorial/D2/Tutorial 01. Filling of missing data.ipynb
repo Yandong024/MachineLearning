{
 "cells": [
  {
   "cell_type": "markdown",
   "metadata": {},
   "source": [
    "Many real-world applications require you to deal with missing data problems. Both Pandas and Sklearn offer you methods to fill the missing data. Please run the following examples to ensure that you are familiar with the method in Pandas or Sklearn to deal with missing data.\n",
    "\n",
    "(1)\tFill the missing data by 0, predefined values, average values in Pandas."
   ]
  },
  {
   "cell_type": "code",
   "execution_count": 1,
   "metadata": {},
   "outputs": [
    {
     "name": "stdout",
     "output_type": "stream",
     "text": [
      "     A    B   C  D\n",
      "0  NaN  2.0 NaN  0\n",
      "1  3.0  4.0 NaN  1\n",
      "2  NaN  NaN NaN  5\n",
      "3  NaN  3.0 NaN  4\n",
      "     A    B    C  D\n",
      "0  0.0  2.0  0.0  0\n",
      "1  3.0  4.0  0.0  1\n",
      "2  0.0  0.0  0.0  5\n",
      "3  0.0  3.0  0.0  4\n",
      "     A    B    C  D\n",
      "0  0.0  2.0  2.0  0\n",
      "1  3.0  4.0  2.0  1\n",
      "2  0.0  1.0  2.0  5\n",
      "3  0.0  3.0  2.0  4\n",
      "     A    B   C  D\n",
      "0  3.0  2.0 NaN  0\n",
      "1  3.0  4.0 NaN  1\n",
      "2  3.0  3.0 NaN  5\n",
      "3  3.0  3.0 NaN  4\n"
     ]
    }
   ],
   "source": [
    "import numpy as np\n",
    "import pandas as pd\n",
    "\n",
    "df = pd.DataFrame([[np.nan, 2, np.nan, 0], [3, 4, np.nan, 1], [np.nan, np.nan, np.nan, 5], [np.nan, 3, np.nan, 4]], columns=list('ABCD'))\n",
    "df.head(4)\n",
    "filleddf = df.fillna(0)\n",
    "\n",
    "values = {'A': 0, 'B':1, 'C':2, 'D':3}\n",
    "df_predefine = df.fillna(value = values)\n",
    "\n",
    "df_mean = df.fillna(df.mean())\n",
    "print(df)\n",
    "print(filleddf)\n",
    "print(df_predefine)\n",
    "print(df_mean)\n"
   ]
  },
  {
   "cell_type": "markdown",
   "metadata": {},
   "source": [
    "(2) Fill the missing data by using Sklearn functions"
   ]
  },
  {
   "cell_type": "code",
   "execution_count": 1,
   "metadata": {},
   "outputs": [
    {
     "name": "stdout",
     "output_type": "stream",
     "text": [
      "[[ 7.   2.   3. ]\n",
      " [ 4.   3.5  6. ]\n",
      " [10.   3.5  9. ]]\n"
     ]
    }
   ],
   "source": [
    "import numpy as np\n",
    "from sklearn.impute import SimpleImputer\n",
    "imp_mean = SimpleImputer(missing_values=np.nan, strategy='mean')\n",
    "imp_mean.fit([[7, 2, 3], [4, np.nan, 6], [10, 5, 9]])\n",
    "X = [[np.nan, 2, 3], [4, np.nan, 6], [10, np.nan, 9]]\n",
    "X_filled = imp_mean.transform(X)\n",
    "print(X_filled)\n"
   ]
  }
 ],
 "metadata": {
  "interpreter": {
   "hash": "a8d1fba2acd384af8835ae5a74542914c2c662db497e29b068bc8ceb50b43021"
  },
  "kernelspec": {
   "display_name": "Python 3.8.12 ('SelfCAM')",
   "language": "python",
   "name": "python3"
  },
  "language_info": {
   "codemirror_mode": {
    "name": "ipython",
    "version": 3
   },
   "file_extension": ".py",
   "mimetype": "text/x-python",
   "name": "python",
   "nbconvert_exporter": "python",
   "pygments_lexer": "ipython3",
   "version": "3.9.7"
  },
  "orig_nbformat": 4
 },
 "nbformat": 4,
 "nbformat_minor": 2
}

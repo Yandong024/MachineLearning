{
 "cells": [
  {
   "cell_type": "markdown",
   "metadata": {},
   "source": [
    "Step 1. Create a random numerical DataFrame"
   ]
  },
  {
   "cell_type": "code",
   "execution_count": 1,
   "metadata": {},
   "outputs": [
    {
     "data": {
      "text/html": [
       "<div>\n",
       "<style scoped>\n",
       "    .dataframe tbody tr th:only-of-type {\n",
       "        vertical-align: middle;\n",
       "    }\n",
       "\n",
       "    .dataframe tbody tr th {\n",
       "        vertical-align: top;\n",
       "    }\n",
       "\n",
       "    .dataframe thead th {\n",
       "        text-align: right;\n",
       "    }\n",
       "</style>\n",
       "<table border=\"1\" class=\"dataframe\">\n",
       "  <thead>\n",
       "    <tr style=\"text-align: right;\">\n",
       "      <th></th>\n",
       "      <th>A</th>\n",
       "      <th>B</th>\n",
       "      <th>C</th>\n",
       "      <th>D</th>\n",
       "    </tr>\n",
       "  </thead>\n",
       "  <tbody>\n",
       "    <tr>\n",
       "      <th>0</th>\n",
       "      <td>0.133871</td>\n",
       "      <td>-0.086118</td>\n",
       "      <td>1.169958</td>\n",
       "      <td>-0.617075</td>\n",
       "    </tr>\n",
       "    <tr>\n",
       "      <th>1</th>\n",
       "      <td>0.243578</td>\n",
       "      <td>-0.026799</td>\n",
       "      <td>0.230640</td>\n",
       "      <td>-0.704815</td>\n",
       "    </tr>\n",
       "    <tr>\n",
       "      <th>2</th>\n",
       "      <td>-1.083293</td>\n",
       "      <td>-1.820893</td>\n",
       "      <td>-0.404267</td>\n",
       "      <td>-1.867016</td>\n",
       "    </tr>\n",
       "    <tr>\n",
       "      <th>3</th>\n",
       "      <td>-1.261265</td>\n",
       "      <td>-0.696269</td>\n",
       "      <td>1.731437</td>\n",
       "      <td>-0.330824</td>\n",
       "    </tr>\n",
       "    <tr>\n",
       "      <th>4</th>\n",
       "      <td>-0.708383</td>\n",
       "      <td>0.138312</td>\n",
       "      <td>-2.505160</td>\n",
       "      <td>-2.889554</td>\n",
       "    </tr>\n",
       "    <tr>\n",
       "      <th>5</th>\n",
       "      <td>-1.172892</td>\n",
       "      <td>-2.025789</td>\n",
       "      <td>0.317631</td>\n",
       "      <td>0.574441</td>\n",
       "    </tr>\n",
       "    <tr>\n",
       "      <th>6</th>\n",
       "      <td>-0.282633</td>\n",
       "      <td>0.389787</td>\n",
       "      <td>0.109218</td>\n",
       "      <td>0.292280</td>\n",
       "    </tr>\n",
       "    <tr>\n",
       "      <th>7</th>\n",
       "      <td>-0.638847</td>\n",
       "      <td>-0.216694</td>\n",
       "      <td>0.274795</td>\n",
       "      <td>0.053104</td>\n",
       "    </tr>\n",
       "    <tr>\n",
       "      <th>8</th>\n",
       "      <td>-1.371074</td>\n",
       "      <td>1.466612</td>\n",
       "      <td>-2.069003</td>\n",
       "      <td>1.044805</td>\n",
       "    </tr>\n",
       "    <tr>\n",
       "      <th>9</th>\n",
       "      <td>1.389805</td>\n",
       "      <td>0.149972</td>\n",
       "      <td>-0.124442</td>\n",
       "      <td>-0.858169</td>\n",
       "    </tr>\n",
       "  </tbody>\n",
       "</table>\n",
       "</div>"
      ],
      "text/plain": [
       "          A         B         C         D\n",
       "0  0.133871 -0.086118  1.169958 -0.617075\n",
       "1  0.243578 -0.026799  0.230640 -0.704815\n",
       "2 -1.083293 -1.820893 -0.404267 -1.867016\n",
       "3 -1.261265 -0.696269  1.731437 -0.330824\n",
       "4 -0.708383  0.138312 -2.505160 -2.889554\n",
       "5 -1.172892 -2.025789  0.317631  0.574441\n",
       "6 -0.282633  0.389787  0.109218  0.292280\n",
       "7 -0.638847 -0.216694  0.274795  0.053104\n",
       "8 -1.371074  1.466612 -2.069003  1.044805\n",
       "9  1.389805  0.149972 -0.124442 -0.858169"
      ]
     },
     "execution_count": 1,
     "metadata": {},
     "output_type": "execute_result"
    }
   ],
   "source": [
    "import numpy as np\n",
    "import pandas as pd \n",
    "df = pd.DataFrame(np.random.randn(10, 4), columns=[\"A\", \"B\", \"C\", \"D\"])\n",
    "df\n"
   ]
  },
  {
   "cell_type": "markdown",
   "metadata": {},
   "source": [
    "Step 2. DataFrame is compatible with basic NumPy functions "
   ]
  },
  {
   "cell_type": "code",
   "execution_count": 2,
   "metadata": {},
   "outputs": [
    {
     "data": {
      "text/html": [
       "<div>\n",
       "<style scoped>\n",
       "    .dataframe tbody tr th:only-of-type {\n",
       "        vertical-align: middle;\n",
       "    }\n",
       "\n",
       "    .dataframe tbody tr th {\n",
       "        vertical-align: top;\n",
       "    }\n",
       "\n",
       "    .dataframe thead th {\n",
       "        text-align: right;\n",
       "    }\n",
       "</style>\n",
       "<table border=\"1\" class=\"dataframe\">\n",
       "  <thead>\n",
       "    <tr style=\"text-align: right;\">\n",
       "      <th></th>\n",
       "      <th>A</th>\n",
       "      <th>B</th>\n",
       "      <th>C</th>\n",
       "      <th>D</th>\n",
       "    </tr>\n",
       "  </thead>\n",
       "  <tbody>\n",
       "    <tr>\n",
       "      <th>0</th>\n",
       "      <td>0.365884</td>\n",
       "      <td>NaN</td>\n",
       "      <td>1.081646</td>\n",
       "      <td>NaN</td>\n",
       "    </tr>\n",
       "    <tr>\n",
       "      <th>1</th>\n",
       "      <td>0.493537</td>\n",
       "      <td>NaN</td>\n",
       "      <td>0.480250</td>\n",
       "      <td>NaN</td>\n",
       "    </tr>\n",
       "    <tr>\n",
       "      <th>2</th>\n",
       "      <td>NaN</td>\n",
       "      <td>NaN</td>\n",
       "      <td>NaN</td>\n",
       "      <td>NaN</td>\n",
       "    </tr>\n",
       "    <tr>\n",
       "      <th>3</th>\n",
       "      <td>NaN</td>\n",
       "      <td>NaN</td>\n",
       "      <td>1.315841</td>\n",
       "      <td>NaN</td>\n",
       "    </tr>\n",
       "    <tr>\n",
       "      <th>4</th>\n",
       "      <td>NaN</td>\n",
       "      <td>0.371904</td>\n",
       "      <td>NaN</td>\n",
       "      <td>NaN</td>\n",
       "    </tr>\n",
       "    <tr>\n",
       "      <th>5</th>\n",
       "      <td>NaN</td>\n",
       "      <td>NaN</td>\n",
       "      <td>0.563588</td>\n",
       "      <td>0.757919</td>\n",
       "    </tr>\n",
       "    <tr>\n",
       "      <th>6</th>\n",
       "      <td>NaN</td>\n",
       "      <td>0.624329</td>\n",
       "      <td>0.330482</td>\n",
       "      <td>0.540629</td>\n",
       "    </tr>\n",
       "    <tr>\n",
       "      <th>7</th>\n",
       "      <td>NaN</td>\n",
       "      <td>NaN</td>\n",
       "      <td>0.524209</td>\n",
       "      <td>0.230443</td>\n",
       "    </tr>\n",
       "    <tr>\n",
       "      <th>8</th>\n",
       "      <td>NaN</td>\n",
       "      <td>1.211038</td>\n",
       "      <td>NaN</td>\n",
       "      <td>1.022157</td>\n",
       "    </tr>\n",
       "    <tr>\n",
       "      <th>9</th>\n",
       "      <td>1.178900</td>\n",
       "      <td>0.387262</td>\n",
       "      <td>NaN</td>\n",
       "      <td>NaN</td>\n",
       "    </tr>\n",
       "  </tbody>\n",
       "</table>\n",
       "</div>"
      ],
      "text/plain": [
       "          A         B         C         D\n",
       "0  0.365884       NaN  1.081646       NaN\n",
       "1  0.493537       NaN  0.480250       NaN\n",
       "2       NaN       NaN       NaN       NaN\n",
       "3       NaN       NaN  1.315841       NaN\n",
       "4       NaN  0.371904       NaN       NaN\n",
       "5       NaN       NaN  0.563588  0.757919\n",
       "6       NaN  0.624329  0.330482  0.540629\n",
       "7       NaN       NaN  0.524209  0.230443\n",
       "8       NaN  1.211038       NaN  1.022157\n",
       "9  1.178900  0.387262       NaN       NaN"
      ]
     },
     "execution_count": 2,
     "metadata": {},
     "output_type": "execute_result"
    }
   ],
   "source": [
    "np.exp(df) #elementwise exponential \n",
    "np.sqrt(df) #elementwise square root"
   ]
  },
  {
   "cell_type": "markdown",
   "metadata": {},
   "source": [
    "Step 3. DataFrame to NumPy arrays \n",
    "\n"
   ]
  },
  {
   "cell_type": "code",
   "execution_count": 3,
   "metadata": {},
   "outputs": [
    {
     "data": {
      "text/plain": [
       "(3, 4)"
      ]
     },
     "execution_count": 3,
     "metadata": {},
     "output_type": "execute_result"
    }
   ],
   "source": [
    "df_all = np.asarray(df) #convert all the DF rows into array\n",
    "df_all.shape\n",
    "df_part = np.asarray(df[4:7]) #convert only 3 rows\n",
    "df_part.shape "
   ]
  },
  {
   "cell_type": "markdown",
   "metadata": {},
   "source": [
    "Step 4. Apply a simple sklearn function on NumPy array (here, we use a linear regression which is one of the most common regression models)\n"
   ]
  },
  {
   "cell_type": "code",
   "execution_count": 4,
   "metadata": {},
   "outputs": [
    {
     "data": {
      "text/plain": [
       "array([16.])"
      ]
     },
     "execution_count": 4,
     "metadata": {},
     "output_type": "execute_result"
    }
   ],
   "source": [
    "from sklearn.linear_model import LinearRegression\n",
    "X = np.array([[1, 1], [1, 2], [2, 2], [2, 3]])\n",
    "# y = 1 * x_0 + 2 * x_1 + 3\n",
    "y = np.dot(X, np.array([1, 2])) + 3\n",
    "\n",
    "# train a linear regressor\n",
    "reg = LinearRegression().fit(X, y)\n",
    "\n",
    "# display coefficient of the prediction\n",
    "reg.score(X, y)\n",
    "\n",
    "# predict a new sample\n",
    "reg.predict(np.array([[3, 5]]))"
   ]
  },
  {
   "cell_type": "markdown",
   "metadata": {},
   "source": [
    "Step 5. Save and load model"
   ]
  },
  {
   "cell_type": "code",
   "execution_count": 5,
   "metadata": {},
   "outputs": [
    {
     "data": {
      "text/plain": [
       "array([16.])"
      ]
     },
     "execution_count": 5,
     "metadata": {},
     "output_type": "execute_result"
    }
   ],
   "source": [
    "import pickle\n",
    "\n",
    "#save our regressor in the current directory\n",
    "pkl_filename = \"regressor.pkl\"\n",
    "with open(pkl_filename, 'wb') as file:\n",
    "    pickle.dump(reg, file)\n",
    "\n",
    "#load from file\n",
    "with open(pkl_filename, 'rb') as file:\n",
    "    reg_checkpoint = pickle.load(file)\n",
    "\n",
    "#should get same result as before\n",
    "reg_checkpoint.predict(np.array([[3, 5]]))\n"
   ]
  },
  {
   "cell_type": "code",
   "execution_count": null,
   "metadata": {},
   "outputs": [],
   "source": []
  }
 ],
 "metadata": {
  "interpreter": {
   "hash": "a8d1fba2acd384af8835ae5a74542914c2c662db497e29b068bc8ceb50b43021"
  },
  "kernelspec": {
   "display_name": "Python 3 (ipykernel)",
   "language": "python",
   "name": "python3"
  },
  "language_info": {
   "codemirror_mode": {
    "name": "ipython",
    "version": 3
   },
   "file_extension": ".py",
   "mimetype": "text/x-python",
   "name": "python",
   "nbconvert_exporter": "python",
   "pygments_lexer": "ipython3",
   "version": "3.8.5"
  }
 },
 "nbformat": 4,
 "nbformat_minor": 2
}

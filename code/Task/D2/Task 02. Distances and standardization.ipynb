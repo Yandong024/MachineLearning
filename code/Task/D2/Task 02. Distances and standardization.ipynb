{
 "cells": [
  {
   "cell_type": "markdown",
   "metadata": {},
   "source": [
    "Use the following code to load diabetes datasets, and calculate the pairwise distances between the 1st, 10th, 20th, 50th and 100th samples. Have a comparison on the results of using different metrics (you may pick 3 metrics from the above table)."
   ]
  },
  {
   "cell_type": "code",
   "execution_count": 1,
   "metadata": {},
   "outputs": [],
   "source": [
    "import numpy as np\n",
    "from sklearn.datasets import load_diabetes\n",
    "\n",
    "X_diabetes, y_diabetes = load_diabetes(return_X_y=True)\n"
   ]
  },
  {
   "cell_type": "code",
   "execution_count": 2,
   "metadata": {},
   "outputs": [
    {
     "name": "stdout",
     "output_type": "stream",
     "text": [
      "The euclidean pariwise:\n",
      "[[0.         0.19448249 0.15723166 0.15700918 0.19140593]\n",
      " [0.19448249 0.         0.13360709 0.18510165 0.29573482]\n",
      " [0.15723166 0.13360709 0.         0.11434038 0.18456334]\n",
      " [0.15700918 0.18510165 0.11434038 0.         0.16112111]\n",
      " [0.19140593 0.29573482 0.18456334 0.16112111 0.        ]]\n",
      "The manhattan pariwise:\n",
      "[[0.         0.51621206 0.36885171 0.39942847 0.50072722]\n",
      " [0.51621206 0.         0.38323949 0.45747163 0.79488594]\n",
      " [0.36885171 0.38323949 0.         0.22044629 0.48609752]\n",
      " [0.39942847 0.45747163 0.22044629 0.         0.40407953]\n",
      " [0.50072722 0.79488594 0.48609752 0.40407953 0.        ]]\n",
      "The mahalanobis pariwise:\n",
      "[[0.         0.05532572 0.05223559 0.05030688 0.04670415]\n",
      " [0.05532572 0.         0.03335572 0.03849184 0.06123062]\n",
      " [0.05223559 0.03335572 0.         0.03320387 0.03879617]\n",
      " [0.05030688 0.03849184 0.03320387 0.         0.0451825 ]\n",
      " [0.04670415 0.06123062 0.03879617 0.0451825  0.        ]]\n"
     ]
    }
   ],
   "source": [
    "import numpy as np\n",
    "from sklearn.datasets import load_diabetes\n",
    "\n",
    "X_diabetes, y_diabetes = load_diabetes(return_X_y=True)\n",
    "m,n=X_diabetes.shape\n",
    "X=np.zeros(5*n).reshape(5,n)\n",
    "X[0,:]=X_diabetes[1]\n",
    "X[1,:]=X_diabetes[10]\n",
    "X[2,:]=X_diabetes[20]\n",
    "X[3,:]=X_diabetes[50]\n",
    "X[4,:]=X_diabetes[100]\n",
    "\n",
    "from sklearn.metrics import DistanceMetric\n",
    "dist_euclidean = DistanceMetric.get_metric('euclidean')\n",
    "dist_manhattan = DistanceMetric.get_metric('manhattan')\n",
    "dist_mahalanobis = DistanceMetric.get_metric('mahalanobis', V=np.cov(X))\n",
    "\n",
    "print(f'The euclidean pariwise:\\n{dist_euclidean.pairwise(X)}')\n",
    "print(f'The manhattan pariwise:\\n{dist_manhattan.pairwise(X)}')\n",
    "print(f'The mahalanobis pariwise:\\n{dist_mahalanobis.pairwise(np.cov(X))}')\n",
    "\n",
    "\n",
    "\n",
    "\n",
    "\n"
   ]
  },
  {
   "cell_type": "markdown",
   "metadata": {},
   "source": [
    "(2) Run a standardization method first and compare the difference with the one by using original data."
   ]
  },
  {
   "cell_type": "code",
   "execution_count": 3,
   "metadata": {},
   "outputs": [
    {
     "name": "stdout",
     "output_type": "stream",
     "text": [
      "The manhattan pariwise:\n",
      "[[0.         0.51621206 0.36885171 0.39942847 0.50072722]\n",
      " [0.51621206 0.         0.38323949 0.45747163 0.79488594]\n",
      " [0.36885171 0.38323949 0.         0.22044629 0.48609752]\n",
      " [0.39942847 0.45747163 0.22044629 0.         0.40407953]\n",
      " [0.50072722 0.79488594 0.48609752 0.40407953 0.        ]]\n",
      "The manhattan pariwise:\n",
      "[[0.         4.82819315 3.48188114 4.01557297 4.61588308]\n",
      " [4.82819315 0.         3.82420743 4.03167432 7.14692428]\n",
      " [3.48188114 3.82420743 0.         2.38930218 4.33629151]\n",
      " [4.01557297 4.03167432 2.38930218 0.         3.782168  ]\n",
      " [4.61588308 7.14692428 4.33629151 3.782168   0.        ]]\n",
      "The manhattan pariwise:\n",
      "[[ 0.         13.8004328   9.67618205 11.09975278 13.1925898 ]\n",
      " [13.8004328   0.         10.86460071 11.54295849 20.68594153]\n",
      " [ 9.67618205 10.86460071  0.          6.50722529 12.53517514]\n",
      " [11.09975278 11.54295849  6.50722529  0.         10.9525135 ]\n",
      " [13.1925898  20.68594153 12.53517514 10.9525135   0.        ]]\n"
     ]
    }
   ],
   "source": [
    "import numpy as np\n",
    "from sklearn.datasets import load_diabetes\n",
    "\n",
    "X_diabetes, y_diabetes = load_diabetes(return_X_y=True)\n",
    "m,n=X_diabetes.shape\n",
    "X=np.zeros(5*n).reshape(5,n)\n",
    "X[0,:]=X_diabetes[1]\n",
    "X[1,:]=X_diabetes[10]\n",
    "X[2,:]=X_diabetes[20]\n",
    "X[3,:]=X_diabetes[50]\n",
    "X[4,:]=X_diabetes[100]\n",
    "\n",
    "from sklearn.metrics import DistanceMetric\n",
    "dist_manhattan_ori = DistanceMetric.get_metric('manhattan')\n",
    "print(f'The manhattan pariwise:\\n{dist_manhattan.pairwise(X)}')\n",
    "\n",
    "from sklearn.preprocessing import MinMaxScaler\n",
    "MinMaxscaler = MinMaxScaler()\n",
    "MinMaxscaler.fit(X)\n",
    "\n",
    "dist_manhattan_MinMax = DistanceMetric.get_metric('manhattan')\n",
    "print(f'The manhattan pariwise:\\n{dist_manhattan_MinMax.pairwise(MinMaxscaler.transform(X))}')\n",
    "\n",
    "from sklearn import preprocessing\n",
    "import numpy as np\n",
    "Standardscaler = preprocessing.StandardScaler().fit(X)\n",
    "\n",
    "dist_manhattan_Standard = DistanceMetric.get_metric('manhattan')\n",
    "print(f'The manhattan pariwise:\\n{dist_manhattan_Standard.pairwise(Standardscaler.transform(X))}')\n"
   ]
  },
  {
   "cell_type": "markdown",
   "metadata": {},
   "source": []
  }
 ],
 "metadata": {
  "interpreter": {
   "hash": "a8d1fba2acd384af8835ae5a74542914c2c662db497e29b068bc8ceb50b43021"
  },
  "kernelspec": {
   "display_name": "Python 3.8.12 ('SelfCAM')",
   "language": "python",
   "name": "python3"
  },
  "language_info": {
   "codemirror_mode": {
    "name": "ipython",
    "version": 3
   },
   "file_extension": ".py",
   "mimetype": "text/x-python",
   "name": "python",
   "nbconvert_exporter": "python",
   "pygments_lexer": "ipython3",
   "version": "3.9.7"
  },
  "orig_nbformat": 4
 },
 "nbformat": 4,
 "nbformat_minor": 2
}

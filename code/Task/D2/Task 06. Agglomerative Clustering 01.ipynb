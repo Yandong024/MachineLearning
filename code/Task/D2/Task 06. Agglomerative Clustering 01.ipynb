{
 "cells": [
  {
   "cell_type": "code",
   "execution_count": 2,
   "metadata": {},
   "outputs": [
    {
     "name": "stdout",
     "output_type": "stream",
     "text": [
      "  Student  R-Programming  Python-Programming  Data Mining  Machine Learning\n",
      "0      S1             85                  89           76                55\n",
      "1      S2             67                  88           64                80\n",
      "2      S3             77                  76           71                69\n",
      "3      S4             57                  63           57                62\n",
      "4      S5             44                  60           63                61\n",
      "5      S6             90                  84           78                83\n",
      "6      S7             68                  70           80                66\n",
      "7      S8             62                  50           61                58\n",
      "8      S9             81                  75           88                82\n",
      "9     S10             92                  80           71                73\n",
      "[[ 0.         33.07567082 21.30727575 43.24349662 52.22068556 28.94822965\n",
      "  28.05352028 47.79121258 32.93933818 21.88606863]\n",
      " [33.07567082  0.         20.34698995 33.13608305 40.92676386 27.38612788\n",
      "  27.87471973 44.29446918 30.7408523  28.05352028]\n",
      " [21.30727575 20.34698995  0.         28.53068524 38.37968212 21.86321111\n",
      "  14.38749457 33.49626845 21.79449472 16.03121954]\n",
      " [43.24349662 33.13608305 28.53068524  0.         14.6628783  49.11211663\n",
      "  26.73948391 15.03329638 45.61797891 42.79018579]\n",
      " [52.22068556 40.92676386 38.37968212 14.6628783   0.         58.31809325\n",
      "  31.46426545 20.90454496 51.57518783 53.96295025]\n",
      " [28.94822965 27.38612788 21.86321111 49.11211663 58.31809325  0.\n",
      "  31.19294792 53.42284156 16.21727474 13.        ]\n",
      " [28.05352028 27.87471973 14.38749457 26.73948391 31.46426545 31.19294792\n",
      "   0.         29.3428015  22.6715681  28.39013913]\n",
      " [47.79121258 44.29446918 33.49626845 15.03329638 20.90454496 53.42284156\n",
      "  29.3428015   0.         47.86439178 46.09772229]\n",
      " [32.93933818 30.7408523  21.79449472 45.61797891 51.57518783 16.21727474\n",
      "  22.6715681  47.86439178  0.         22.71563338]\n",
      " [21.88606863 28.05352028 16.03121954 42.79018579 53.96295025 13.\n",
      "  28.39013913 46.09772229 22.71563338  0.        ]]\n",
      "[[  0.  56.  40.  80.  89.  40.  51.  80.  57.  39.]\n",
      " [ 56.   0.  40.  60.  71.  44.  49.  68.  53.  47.]\n",
      " [ 40.  40.   0.  54.  65.  42.  27.  62.  35.  23.]\n",
      " [ 80.  60.  54.   0.  23.  96.  45.  26.  87.  77.]\n",
      " [ 89.  71.  65.  23.   0. 107.  56.  33.  98.  88.]\n",
      " [ 40.  44.  42.  96. 107.   0.  55. 104.  29.  23.]\n",
      " [ 51.  49.  27.  45.  56.  55.   0.  53.  42.  50.]\n",
      " [ 80.  68.  62.  26.  33. 104.  53.   0.  95.  85.]\n",
      " [ 57.  53.  35.  87.  98.  29.  42.  95.   0.  42.]\n",
      " [ 39.  47.  23.  77.  88.  23.  50.  85.  42.   0.]]\n",
      "0.46885091042317634\n"
     ]
    }
   ],
   "source": [
    "import pandas as pd\n",
    "import numpy as np\n",
    "from matplotlib import pyplot as plt\n",
    "\n",
    "from scipy.cluster.hierarchy import dendrogram , linkage\n",
    "df = pd.read_csv('https://raw.githubusercontent.com/lborohfang/COP528AML_Files/main/student.csv')\n",
    "\n",
    "print(df.head(10))\n",
    "student = np.asarray(df.iloc[:,1:])\n",
    "\n",
    "# *Solutions Example\n",
    "from sklearn.metrics import DistanceMetric\n",
    "dist = DistanceMetric.get_metric('euclidean')\n",
    "print(dist.pairwise(student))\n",
    "\n",
    "from sklearn.metrics import DistanceMetric\n",
    "dist = DistanceMetric.get_metric('manhattan')\n",
    "print(dist.pairwise(student))\n",
    "\n",
    "#Agglomerative Clustering\n",
    "from sklearn import cluster\n",
    "clst=cluster.AgglomerativeClustering(n_clusters=2)\n",
    "y_pred_Agglome=clst.fit_predict(student)\n",
    "\n",
    "from sklearn.metrics import silhouette_score\n",
    "silhouetteScore=silhouette_score(student, y_pred_Agglome, metric='euclidean', sample_size=None, random_state=None)  \n",
    "print(silhouetteScore)\n",
    "\n"
   ]
  }
 ],
 "metadata": {
  "kernelspec": {
   "display_name": "SelfCAM",
   "language": "python",
   "name": "python3"
  },
  "language_info": {
   "codemirror_mode": {
    "name": "ipython",
    "version": 3
   },
   "file_extension": ".py",
   "mimetype": "text/x-python",
   "name": "python",
   "nbconvert_exporter": "python",
   "pygments_lexer": "ipython3",
   "version": "3.9.7"
  },
  "orig_nbformat": 4
 },
 "nbformat": 4,
 "nbformat_minor": 2
}

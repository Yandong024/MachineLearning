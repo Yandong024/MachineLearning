{
 "cells": [
  {
   "cell_type": "code",
   "execution_count": 2,
   "metadata": {},
   "outputs": [
    {
     "name": "stdout",
     "output_type": "stream",
     "text": [
      "(124, 13) (124,) (54, 13) (54,)\n",
      "the accuracy_score before Normalisation:0.7037037037037037\n",
      "the accuracy_score before Normalisation:0.7407407407407407\n",
      "after Normalisation:0.9814814814814815\n",
      "after Normalisation:0.9814814814814815\n"
     ]
    }
   ],
   "source": [
    "from sklearn.datasets import load_wine\n",
    "from sklearn.model_selection import train_test_split\n",
    "import matplotlib.pyplot as plt\n",
    "import numpy as np\n",
    "from sklearn import svm, datasets\n",
    "\n",
    "wine = load_wine()\n",
    "X = wine.data\n",
    "y = wine.target\n",
    "\n",
    "X_train, X_test, y_train, y_test = train_test_split(\n",
    "    X, y, test_size=0.3, random_state=0)\n",
    "\n",
    "print(X_train.shape, y_train.shape,X_test.shape, y_test.shape)\n",
    "\n",
    "#knn\n",
    "import numpy as np\n",
    "import matplotlib.pyplot as plt\n",
    "from sklearn import neighbors, datasets\n",
    "import numpy as np\n",
    "from sklearn.metrics import accuracy_score\n",
    "\n",
    "n_neighbors=3\n",
    "for weights in [\"uniform\", \"distance\"]:\n",
    "    clf = neighbors.KNeighborsClassifier(n_neighbors, weights=weights)\n",
    "    clf.fit(X_train, y_train)\n",
    "    y_pred=clf.predict(X_test)\n",
    "   \n",
    "    print(f'the accuracy_score before Normalisation:{accuracy_score(y_test, y_pred)}') \n",
    "\n",
    "# Pre-processing of data\n",
    "from sklearn.preprocessing import MinMaxScaler\n",
    "scaler = MinMaxScaler()\n",
    "scaler.fit(X)\n",
    "X_Norm=scaler.transform(X)\n",
    "X_Norm_train, X_Norm_test, y_train, y_test = train_test_split(X_Norm, y, test_size=0.3, random_state=0)\n",
    "for weights in [\"uniform\", \"distance\"]:\n",
    "    clf = neighbors.KNeighborsClassifier(n_neighbors, weights=weights)\n",
    "    clf.fit(X_Norm_train, y_train)\n",
    "    y_pred=clf.predict(X_Norm_test)   \n",
    "    print(f'after Normalisation:{accuracy_score(y_test, y_pred)}')\n",
    "\n"
   ]
  }
 ],
 "metadata": {
  "kernelspec": {
   "display_name": "SelfCAM",
   "language": "python",
   "name": "python3"
  },
  "language_info": {
   "codemirror_mode": {
    "name": "ipython",
    "version": 3
   },
   "file_extension": ".py",
   "mimetype": "text/x-python",
   "name": "python",
   "nbconvert_exporter": "python",
   "pygments_lexer": "ipython3",
   "version": "3.9.7"
  },
  "orig_nbformat": 4
 },
 "nbformat": 4,
 "nbformat_minor": 2
}

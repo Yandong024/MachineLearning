{
 "cells": [
  {
   "cell_type": "code",
   "execution_count": 1,
   "metadata": {},
   "outputs": [
    {
     "ename": "NameError",
     "evalue": "name 'pd' is not defined",
     "output_type": "error",
     "traceback": [
      "\u001b[1;31m---------------------------------------------------------------------------\u001b[0m",
      "\u001b[1;31mNameError\u001b[0m                                 Traceback (most recent call last)",
      "Cell \u001b[1;32mIn[1], line 4\u001b[0m\n\u001b[0;32m      2\u001b[0m url \u001b[39m=\u001b[39m \u001b[39m\"\u001b[39m\u001b[39mhttps://raw.githubusercontent.com/jbrownlee/Datasets/master/pima-indians-diabetes.data.csv\u001b[39m\u001b[39m\"\u001b[39m\n\u001b[0;32m      3\u001b[0m names \u001b[39m=\u001b[39m [\u001b[39m'\u001b[39m\u001b[39mpreg\u001b[39m\u001b[39m'\u001b[39m, \u001b[39m'\u001b[39m\u001b[39mglucose\u001b[39m\u001b[39m'\u001b[39m, \u001b[39m'\u001b[39m\u001b[39mbp\u001b[39m\u001b[39m'\u001b[39m, \u001b[39m'\u001b[39m\u001b[39mskin\u001b[39m\u001b[39m'\u001b[39m, \u001b[39m'\u001b[39m\u001b[39minsulin\u001b[39m\u001b[39m'\u001b[39m, \u001b[39m'\u001b[39m\u001b[39mbmi\u001b[39m\u001b[39m'\u001b[39m, \u001b[39m'\u001b[39m\u001b[39mpedigree\u001b[39m\u001b[39m'\u001b[39m, \u001b[39m'\u001b[39m\u001b[39mage\u001b[39m\u001b[39m'\u001b[39m, \u001b[39m'\u001b[39m\u001b[39mclass\u001b[39m\u001b[39m'\u001b[39m]\n\u001b[1;32m----> 4\u001b[0m df \u001b[39m=\u001b[39m pd\u001b[39m.\u001b[39mread_csv(url, names\u001b[39m=\u001b[39mnames)\n",
      "\u001b[1;31mNameError\u001b[0m: name 'pd' is not defined"
     ]
    }
   ],
   "source": [
    "# Read dataset\n",
    "url = \"https://raw.githubusercontent.com/jbrownlee/Datasets/master/pima-indians-diabetes.data.csv\"\n",
    "names = ['preg', 'glucose', 'bp', 'skin', 'insulin', 'bmi', 'pedigree', 'age', 'class']\n",
    "df = pd.read_csv(url, names=names)\n"
   ]
  },
  {
   "cell_type": "code",
   "execution_count": 2,
   "metadata": {},
   "outputs": [
    {
     "name": "stdout",
     "output_type": "stream",
     "text": [
      "   preg  glucose  bp  skin  insulin   bmi  pedigree  age  class\n",
      "0     6      148  72    35        0  33.6     0.627   50      1\n",
      "1     1       85  66    29        0  26.6     0.351   31      0\n",
      "2     8      183  64     0        0  23.3     0.672   32      1\n",
      "3     1       89  66    23       94  28.1     0.167   21      0\n",
      "4     0      137  40    35      168  43.1     2.288   33      1\n",
      "   preg  glucose    bp  skin  insulin   bmi  pedigree  age  class\n",
      "0   6.0    148.0  72.0  35.0      NaN  33.6     0.627   50      1\n",
      "1   1.0     85.0  66.0  29.0      NaN  26.6     0.351   31      0\n",
      "2   8.0    183.0  64.0   NaN      NaN  23.3     0.672   32      1\n",
      "3   1.0     89.0  66.0  23.0     94.0  28.1     0.167   21      0\n",
      "4   NaN    137.0  40.0  35.0    168.0  43.1     2.288   33      1\n",
      "Accuracy of Gaussian Naive Bayes classifier: 0.7647058823529411\n"
     ]
    },
    {
     "name": "stderr",
     "output_type": "stream",
     "text": [
      "C:\\Users\\18612\\AppData\\Local\\Temp\\ipykernel_26836\\4186727269.py:16: FutureWarning: Setting an item of incompatible dtype is deprecated and will raise in a future error of pandas. Value '0       6.0\n",
      "1       1.0\n",
      "2       8.0\n",
      "3       1.0\n",
      "4       NaN\n",
      "       ... \n",
      "763    10.0\n",
      "764     2.0\n",
      "765     5.0\n",
      "766     1.0\n",
      "767     1.0\n",
      "Name: preg, Length: 768, dtype: float64' has dtype incompatible with int64, please explicitly cast to a compatible dtype first.\n",
      "  df.iloc[:, :-1] = df.iloc[:, :-1].replace(0, np.NaN)\n",
      "C:\\Users\\18612\\AppData\\Local\\Temp\\ipykernel_26836\\4186727269.py:16: FutureWarning: Setting an item of incompatible dtype is deprecated and will raise in a future error of pandas. Value '0      148.0\n",
      "1       85.0\n",
      "2      183.0\n",
      "3       89.0\n",
      "4      137.0\n",
      "       ...  \n",
      "763    101.0\n",
      "764    122.0\n",
      "765    121.0\n",
      "766    126.0\n",
      "767     93.0\n",
      "Name: glucose, Length: 768, dtype: float64' has dtype incompatible with int64, please explicitly cast to a compatible dtype first.\n",
      "  df.iloc[:, :-1] = df.iloc[:, :-1].replace(0, np.NaN)\n",
      "C:\\Users\\18612\\AppData\\Local\\Temp\\ipykernel_26836\\4186727269.py:16: FutureWarning: Setting an item of incompatible dtype is deprecated and will raise in a future error of pandas. Value '0      72.0\n",
      "1      66.0\n",
      "2      64.0\n",
      "3      66.0\n",
      "4      40.0\n",
      "       ... \n",
      "763    76.0\n",
      "764    70.0\n",
      "765    72.0\n",
      "766    60.0\n",
      "767    70.0\n",
      "Name: bp, Length: 768, dtype: float64' has dtype incompatible with int64, please explicitly cast to a compatible dtype first.\n",
      "  df.iloc[:, :-1] = df.iloc[:, :-1].replace(0, np.NaN)\n",
      "C:\\Users\\18612\\AppData\\Local\\Temp\\ipykernel_26836\\4186727269.py:16: FutureWarning: Setting an item of incompatible dtype is deprecated and will raise in a future error of pandas. Value '0      35.0\n",
      "1      29.0\n",
      "2       NaN\n",
      "3      23.0\n",
      "4      35.0\n",
      "       ... \n",
      "763    48.0\n",
      "764    27.0\n",
      "765    23.0\n",
      "766     NaN\n",
      "767    31.0\n",
      "Name: skin, Length: 768, dtype: float64' has dtype incompatible with int64, please explicitly cast to a compatible dtype first.\n",
      "  df.iloc[:, :-1] = df.iloc[:, :-1].replace(0, np.NaN)\n",
      "C:\\Users\\18612\\AppData\\Local\\Temp\\ipykernel_26836\\4186727269.py:16: FutureWarning: Setting an item of incompatible dtype is deprecated and will raise in a future error of pandas. Value '0        NaN\n",
      "1        NaN\n",
      "2        NaN\n",
      "3       94.0\n",
      "4      168.0\n",
      "       ...  \n",
      "763    180.0\n",
      "764      NaN\n",
      "765    112.0\n",
      "766      NaN\n",
      "767      NaN\n",
      "Name: insulin, Length: 768, dtype: float64' has dtype incompatible with int64, please explicitly cast to a compatible dtype first.\n",
      "  df.iloc[:, :-1] = df.iloc[:, :-1].replace(0, np.NaN)\n"
     ]
    }
   ],
   "source": [
    "# *Solutions Examples\n",
    "# Import necessary libraries\n",
    "import numpy as np\n",
    "import pandas as pd\n",
    "from sklearn.model_selection import train_test_split\n",
    "from sklearn.naive_bayes import GaussianNB\n",
    "from sklearn.metrics import accuracy_score\n",
    "# Read dataset\n",
    "url = \"https://raw.githubusercontent.com/jbrownlee/Datasets/master/pima-indians-diabetes.data.csv\"\n",
    "names = ['preg', 'glucose', 'bp', 'skin', 'insulin', 'bmi', 'pedigree', \n",
    "'age', 'class']\n",
    "df = pd.read_csv(url, names=names)\n",
    "# Print first 5 rows of dataset\n",
    "print(df.head())\n",
    "# Replace all zero values in the feature columns except for the last column with NaN\n",
    "df.iloc[:, :-1] = df.iloc[:, :-1].replace(0, np.NaN)\n",
    "# Print first 5 rows of dataset again\n",
    "print(df.head())\n",
    "# Remove samples with missing values\n",
    "df.dropna(inplace=True)\n",
    "# Split data into features and labels\n",
    "X = df.iloc[:, :-1]\n",
    "y = df.iloc[:, -1]\n",
    "X_train, X_test, y_train, y_test = train_test_split(X, y, test_size=0.2, \n",
    "random_state=42)\n",
    "# Train Gaussian Naive Bayes classifier\n",
    "nb_classifier = GaussianNB()\n",
    "nb_classifier.fit(X_train, y_train)\n",
    "# Make predictions on test set\n",
    "y_pred = nb_classifier.predict(X_test)\n",
    "# Compute classifier performance (accuracy)\n",
    "accuracy = accuracy_score(y_test, y_pred)\n",
    "print(\"Accuracy of Gaussian Naive Bayes classifier:\", accuracy)\n",
    "\n"
   ]
  }
 ],
 "metadata": {
  "kernelspec": {
   "display_name": "SelfCAM",
   "language": "python",
   "name": "python3"
  },
  "language_info": {
   "codemirror_mode": {
    "name": "ipython",
    "version": 3
   },
   "file_extension": ".py",
   "mimetype": "text/x-python",
   "name": "python",
   "nbconvert_exporter": "python",
   "pygments_lexer": "ipython3",
   "version": "3.9.7"
  },
  "orig_nbformat": 4
 },
 "nbformat": 4,
 "nbformat_minor": 2
}

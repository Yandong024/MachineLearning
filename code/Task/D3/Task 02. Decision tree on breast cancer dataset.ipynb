{
 "cells": [
  {
   "cell_type": "markdown",
   "metadata": {},
   "source": [
    "The breast cancer set is from the Institute of Oncology, University Medical Centre, Ljubljana, Yugoslavia, and was provided by M. Zwitter and M. Soklic, both with thanks. The dataset is a classical dichotomous dataset. Use this to build a decision tree, and evaluate it."
   ]
  },
  {
   "cell_type": "code",
   "execution_count": 2,
   "metadata": {},
   "outputs": [],
   "source": [
    "from sklearn.datasets import load_breast_cancer\n",
    "dataset = load_breast_cancer()\n",
    "df= pd.DataFrame(data= dataset.data, columns=dataset.feature_names)\n",
    "df['target'] = pd.Series(dataset.target)\n",
    "df.head(5)\n",
    "features, target = load_breast_cancer(return_X_y=True)\n"
   ]
  },
  {
   "cell_type": "code",
   "execution_count": 1,
   "metadata": {},
   "outputs": [
    {
     "name": "stdout",
     "output_type": "stream",
     "text": [
      "test F1:0.9532163742690059, test acc:0.9532163742690059\n"
     ]
    }
   ],
   "source": [
    "# *Solutions Example\n",
    "from sklearn.model_selection import train_test_split\n",
    "from sklearn.tree import DecisionTreeClassifier\n",
    "from sklearn import metrics\n",
    "import pandas as pd\n",
    "from sklearn.datasets import load_breast_cancer\n",
    "\n",
    "features, target = load_breast_cancer(return_X_y=True)\n",
    "X_train, X_test, Y_train, Y_test = train_test_split(features, target,\n",
    "                                                    test_size=0.30,\n",
    "                                                    random_state=0)\n",
    "\n",
    "model = DecisionTreeClassifier(criterion='entropy',random_state=0, max_depth=3, min_samples_leaf=2)\n",
    "\n",
    "model.fit(X_train,Y_train)\n",
    "\n",
    "pred_test=model.predict(X_test)\n",
    "test_f1 = metrics.f1_score(Y_test, pred_test, average='micro')\n",
    "test_acc = metrics.accuracy_score(Y_test, pred_test)\n",
    "\n",
    "print(f'test F1:{test_f1}, test acc:{test_acc}')\n",
    "\n"
   ]
  }
 ],
 "metadata": {
  "kernelspec": {
   "display_name": "SelfCAM",
   "language": "python",
   "name": "python3"
  },
  "language_info": {
   "codemirror_mode": {
    "name": "ipython",
    "version": 3
   },
   "file_extension": ".py",
   "mimetype": "text/x-python",
   "name": "python",
   "nbconvert_exporter": "python",
   "pygments_lexer": "ipython3",
   "version": "3.9.7"
  },
  "orig_nbformat": 4
 },
 "nbformat": 4,
 "nbformat_minor": 2
}

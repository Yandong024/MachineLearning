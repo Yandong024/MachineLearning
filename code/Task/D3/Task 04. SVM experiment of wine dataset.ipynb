{
 "cells": [
  {
   "cell_type": "code",
   "execution_count": 1,
   "metadata": {},
   "outputs": [
    {
     "name": "stdout",
     "output_type": "stream",
     "text": [
      "'linear','poly','rbf' \n",
      " [0.7354798  0.37828283 0.35050505]\n"
     ]
    }
   ],
   "source": [
    "from sklearn.datasets import load_wine\n",
    "import numpy as np\n",
    "from sklearn import svm\n",
    "import numpy as np\n",
    "from sklearn.model_selection import KFold\n",
    "import numpy as np\n",
    "import numpy as np\n",
    "from sklearn.metrics import accuracy_score\n",
    "wine = load_wine()\n",
    "X = wine.data\n",
    "y = wine.target\n",
    "kf = KFold(n_splits=4)\n",
    "kf.get_n_splits(X)\n",
    "n_neighbors=3\n",
    "accuracy_score_Records=[]\n",
    "for train_index, test_index in kf.split(X):\n",
    "    X_train, X_test = X[train_index], X[test_index]\n",
    "    y_train, y_test = y[train_index], y[test_index]\n",
    "    #svm\n",
    "    record_index=0\n",
    "    record=np.zeros(3)\n",
    "    for kernel in ['linear','poly','rbf']:\n",
    "        model = svm.SVC(kernel=kernel, degree=3)\n",
    "        clf = model.fit(X_train, y_train)\n",
    "        y_pred = clf.predict(X_test)   \n",
    "        record[ record_index]=accuracy_score(y_test, y_pred)\n",
    "        record_index=record_index+1\n",
    "    accuracy_score_Records.append(record)\n",
    "accuracy_score_Records=np.array(accuracy_score_Records)\n",
    "print(f\"'linear','poly','rbf' \\n {accuracy_score_Records.mean(axis=0) }\")\n",
    "\n"
   ]
  }
 ],
 "metadata": {
  "kernelspec": {
   "display_name": "SelfCAM",
   "language": "python",
   "name": "python3"
  },
  "language_info": {
   "codemirror_mode": {
    "name": "ipython",
    "version": 3
   },
   "file_extension": ".py",
   "mimetype": "text/x-python",
   "name": "python",
   "nbconvert_exporter": "python",
   "pygments_lexer": "ipython3",
   "version": "3.9.7"
  },
  "orig_nbformat": 4
 },
 "nbformat": 4,
 "nbformat_minor": 2
}

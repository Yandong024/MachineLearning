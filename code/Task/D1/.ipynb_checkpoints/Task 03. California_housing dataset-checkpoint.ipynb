{
 "cells": [
  {
   "cell_type": "markdown",
   "metadata": {},
   "source": [
    "California_housing is a classic dataset for the house price prediction problem. The code below regresses the Median_house_value for each sample using a simple linear regression model. please use metrics you have learned, e.g. Root Mean Squared Error (RMSE), Mean Absolute Error (MAE) and R-Squared to evaluate the performance of the model."
   ]
  },
  {
   "cell_type": "code",
   "execution_count": 4,
   "metadata": {},
   "outputs": [
    {
     "data": {
      "text/plain": [
       "array([3.00993697, 4.50525479, 1.82615647, ..., 1.58346823, 1.78078238,\n",
       "       2.26985507])"
      ]
     },
     "execution_count": 4,
     "metadata": {},
     "output_type": "execute_result"
    }
   ],
   "source": [
    "from sklearn.linear_model import LinearRegression\n",
    "from sklearn.datasets import fetch_california_housing\n",
    "from sklearn.model_selection import train_test_split\n",
    "from sklearn.neighbors import KNeighborsRegressor\n",
    "#import dataset\n",
    "california=fetch_california_housing()\n",
    "x=california[\"data\"]\n",
    "y=california[\"target\"]\n",
    "names=california[\"feature_names\"]\n",
    "#Dividing the data set and training set\n",
    "x_train,x_test,y_train,y_test=train_test_split(x,y,test_size=0.2,random_state=125)\n",
    "# Build a linear regression model and train a test set\n",
    "reg_linear = LinearRegression().fit (x_train, y_train)\n",
    "y_pred_linear=reg_linear.predict(x_test)\n",
    "\n"
   ]
  },
  {
   "cell_type": "code",
   "execution_count": 6,
   "metadata": {},
   "outputs": [
    {
     "data": {
      "text/plain": [
       "array([4.526, 3.585, 3.521, ..., 0.923, 0.847, 0.894])"
      ]
     },
     "execution_count": 6,
     "metadata": {},
     "output_type": "execute_result"
    }
   ],
   "source": [
    "y"
   ]
  },
  {
   "cell_type": "code",
   "execution_count": 2,
   "metadata": {},
   "outputs": [
    {
     "name": "stdout",
     "output_type": "stream",
     "text": [
      "The mean absolute error of the linear regression for california is: 0.538810904433536\n",
      "The mean squared error of linear regression in California is: 0.5251984193929106\n",
      "The median absolute error of the California linear regression is: 0.42615808390588705\n",
      "The value of the interpretable variance of the California linear regression is: 0.6149742380159412\n",
      "The R variance of the california linear regression is: 0.6149716055425625\n"
     ]
    }
   ],
   "source": [
    "# *Solutions Examples\n",
    "from sklearn.linear_model import LinearRegression\n",
    "from sklearn.datasets import fetch_california_housing\n",
    "from sklearn.model_selection import train_test_split\n",
    "from sklearn.neighbors import KNeighborsRegressor\n",
    "#import dataset\n",
    "california=fetch_california_housing()\n",
    "x=california[\"data\"]\n",
    "y=california[\"target\"]\n",
    "names=california[\"feature_names\"]\n",
    "#Dividing the data set and training set\n",
    "x_train,x_test,y_train,y_test=train_test_split(x,y,test_size=0.2,random_state=125)\n",
    "# Build a linear regression model and train a test set\n",
    "reg_linear = LinearRegression().fit (x_train, y_train)\n",
    "y_pred_linear=reg_linear.predict(x_test)\n",
    "\n",
    "from sklearn. metrics import explained_variance_score, mean_absolute_error, mean_squared_error, median_absolute_error, r2_score\n",
    "print('The mean absolute error of the linear regression for california is:', mean_absolute_error (y_test, y_pred_linear))\n",
    "print('The mean squared error of linear regression in California is:', mean_squared_error (y_test, y_pred_linear))\n",
    "print('The median absolute error of the California linear regression is:', median_absolute_error (y_test, y_pred_linear))\n",
    "print('The value of the interpretable variance of the California linear regression is:',explained_variance_score (y_test, y_pred_linear))\n",
    "print('The R variance of the california linear regression is:',r2_score (y_test, y_pred_linear))\n",
    "\n",
    "\n"
   ]
  },
  {
   "cell_type": "code",
   "execution_count": null,
   "metadata": {},
   "outputs": [],
   "source": []
  },
  {
   "cell_type": "code",
   "execution_count": null,
   "metadata": {},
   "outputs": [],
   "source": []
  }
 ],
 "metadata": {
  "interpreter": {
   "hash": "a8d1fba2acd384af8835ae5a74542914c2c662db497e29b068bc8ceb50b43021"
  },
  "kernelspec": {
   "display_name": "Python 3 (ipykernel)",
   "language": "python",
   "name": "python3"
  },
  "language_info": {
   "codemirror_mode": {
    "name": "ipython",
    "version": 3
   },
   "file_extension": ".py",
   "mimetype": "text/x-python",
   "name": "python",
   "nbconvert_exporter": "python",
   "pygments_lexer": "ipython3",
   "version": "3.8.5"
  }
 },
 "nbformat": 4,
 "nbformat_minor": 2
}
